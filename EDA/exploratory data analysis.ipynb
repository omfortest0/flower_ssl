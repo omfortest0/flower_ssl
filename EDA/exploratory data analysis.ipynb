{
 "cells": [
  {
   "cell_type": "code",
   "execution_count": 1,
   "id": "2cf71ad5",
   "metadata": {},
   "outputs": [],
   "source": [
    "import os"
   ]
  },
  {
   "cell_type": "code",
   "execution_count": 2,
   "id": "222ae7d1",
   "metadata": {},
   "outputs": [],
   "source": [
    "os.chdir('C:/Users/op/Desktop/assign/')"
   ]
  },
  {
   "cell_type": "code",
   "execution_count": 3,
   "id": "67c8bd70",
   "metadata": {},
   "outputs": [],
   "source": [
    "from scipy.io import loadmat\n",
    "from sklearn.model_selection import train_test_split\n",
    "import collections\n",
    "import numpy as np\n",
    "\n",
    "from sklearn.utils.class_weight import compute_class_weight\n",
    "import pandas as pd"
   ]
  },
  {
   "cell_type": "code",
   "execution_count": 5,
   "id": "4e73637b",
   "metadata": {},
   "outputs": [],
   "source": [
    "import matplotlib.pyplot as plt\n",
    "from torchvision import transforms, datasets\n",
    "from torch.utils.data import (\n",
    "    Dataset,\n",
    "    DataLoader,\n",
    ")\n",
    "import torch\n",
    "import glob\n",
    "from torchvision.datasets import ImageFolder\n",
    "from torchvision.transforms import (\n",
    "    RandomResizedCrop,\n",
    "    RandomHorizontalFlip,\n",
    "    ColorJitter,\n",
    "    RandomGrayscale,\n",
    "    RandomApply,\n",
    "    Compose,\n",
    "    GaussianBlur,\n",
    "    ToTensor,\n",
    ")\n",
    "from skimage import io"
   ]
  },
  {
   "cell_type": "code",
   "execution_count": 6,
   "id": "61bfa44c",
   "metadata": {},
   "outputs": [],
   "source": [
    "img_path   = './data/jpg/'\n",
    "label_path = './data/imagelabels.mat'"
   ]
  },
  {
   "cell_type": "code",
   "execution_count": 7,
   "id": "9704db43",
   "metadata": {},
   "outputs": [],
   "source": [
    "## check class distribution in the data\n",
    "labels = loadmat('./data/imagelabels.mat')['labels'][0]\n",
    "label_distribution = collections.Counter(labels)"
   ]
  },
  {
   "cell_type": "code",
   "execution_count": 9,
   "id": "6562417e",
   "metadata": {},
   "outputs": [
    {
     "name": "stdout",
     "output_type": "stream",
     "text": [
      "Class with highest frequency: 51, 258\n",
      "Class with lowest frequency: 34, 40\n",
      "Class imbalance : 6.45\n"
     ]
    }
   ],
   "source": [
    "label_freq = []\n",
    "_label = []\n",
    "for lbl, freq in label_distribution.items():\n",
    "    label_freq.append(freq)\n",
    "    _label.append(lbl)\n",
    "\n",
    "_label = np.array(_label)\n",
    "label_freq = np.array(label_freq)\n",
    "sort_index = label_freq.argsort()\n",
    "label_freq.sort()\n",
    "_label = _label[sort_index]\n",
    "\n",
    "### check for class imbalance\n",
    "print('Class with highest frequency: {0}, {1}'.format(_label[-1], label_freq[-1]))\n",
    "print('Class with lowest frequency: {0}, {1}'.format(_label[0], label_freq[0]))\n",
    "print('Class imbalance : {}'.format(label_freq[-1]/label_freq[0]))"
   ]
  },
  {
   "cell_type": "code",
   "execution_count": 10,
   "id": "371b0aeb",
   "metadata": {},
   "outputs": [],
   "source": [
    "### Test-train split\n",
    "X_train_index, X_test_index, y_train, y_test = train_test_split([i for i in range(0,len(labels))], labels, stratify=labels, \n",
    "                                                    test_size=0.8, shuffle=True)\n",
    "files = np.array(glob.glob(\"./data/jpg/**.jpg\"))\n",
    "dataset_train_files = files[X_train_index]\n",
    "dataset_test_files  = files[X_test_index]"
   ]
  },
  {
   "cell_type": "code",
   "execution_count": 11,
   "id": "4f58ff3d",
   "metadata": {},
   "outputs": [
    {
     "name": "stdout",
     "output_type": "stream",
     "text": [
      "     class  frequency    weight\n",
      "0       34         40  2.007108\n",
      "1        3         40  2.007108\n",
      "2        7         40  2.007108\n",
      "3       45         40  2.007108\n",
      "4        1         40  2.007108\n",
      "..     ...        ...       ...\n",
      "97      89        184  0.436328\n",
      "98      73        194  0.413837\n",
      "99      46        196  0.409614\n",
      "100     77        251  0.319858\n",
      "101     51        258  0.311180\n",
      "\n",
      "[102 rows x 3 columns]\n"
     ]
    }
   ],
   "source": [
    "### The issue of class imbalance can be mitigated with a weighted cross-entropy loss function whereby each class is weighted\n",
    "# in proportion to its imbalance\n",
    "class_weights = compute_class_weight(class_weight = \"balanced\", classes= np.unique(labels), y= labels)\n",
    "labels_dict = {'class': _label, 'frequency':label_freq, 'weight':class_weights[_label-1]}\n",
    "label_frame = pd.DataFrame.from_dict(labels_dict)\n",
    "print(label_frame)"
   ]
  },
  {
   "cell_type": "code",
   "execution_count": 8,
   "id": "e124673d",
   "metadata": {},
   "outputs": [
    {
     "data": {
      "text/plain": [
       "array([77, 77, 77, ..., 62, 62, 62], dtype=uint8)"
      ]
     },
     "execution_count": 8,
     "metadata": {},
     "output_type": "execute_result"
    }
   ],
   "source": [
    "labels"
   ]
  },
  {
   "cell_type": "code",
   "execution_count": null,
   "id": "6332c397",
   "metadata": {},
   "outputs": [],
   "source": []
  }
 ],
 "metadata": {
  "kernelspec": {
   "display_name": "Python 3 (ipykernel)",
   "language": "python",
   "name": "python3"
  },
  "language_info": {
   "codemirror_mode": {
    "name": "ipython",
    "version": 3
   },
   "file_extension": ".py",
   "mimetype": "text/x-python",
   "name": "python",
   "nbconvert_exporter": "python",
   "pygments_lexer": "ipython3",
   "version": "3.9.7"
  }
 },
 "nbformat": 4,
 "nbformat_minor": 5
}
